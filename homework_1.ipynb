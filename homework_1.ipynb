{
 "cells": [
  {
   "cell_type": "code",
   "execution_count": 6,
   "metadata": {},
   "outputs": [],
   "source": [
    "class Test:\n",
    "    @staticmethod\n",
    "    def assert_equals(a, b, *args, **kwargs):\n",
    "        assert a == b\n",
    "        print('Passed')"
   ]
  },
  {
   "cell_type": "markdown",
   "metadata": {},
   "source": [
    "# Problem https://edabit.com/challenge/BfSj2nBc33aCQrbSg (5 points)"
   ]
  },
  {
   "cell_type": "code",
   "execution_count": 7,
   "metadata": {},
   "outputs": [],
   "source": [
    "def prime (n):\n",
    "    if ((n%2 == 0 and n != 2) or n<=1):\n",
    "        return False\n",
    "    p = 3\n",
    "    while (p*p <= n):\n",
    "        if (n%p == 0):\n",
    "            return False\n",
    "        p += 2\n",
    "    return True\n",
    "\n",
    "def truncatable (n):\n",
    "    k = str(n)\n",
    "    if (k.find(\"0\") != -1):\n",
    "        return False\n",
    "    left = right = True\n",
    "    while (k != \"\"):\n",
    "        if (not prime (int(k))):\n",
    "            left = False\n",
    "            break\n",
    "        k = k[1:]\n",
    "    \n",
    "    while (n > 0):\n",
    "        if (not prime (n)):\n",
    "            right = False\n",
    "            break\n",
    "        n //= 10\n",
    "    \n",
    "    if (left and right):\n",
    "        return \"both\"\n",
    "    if (left):\n",
    "        return \"left\"\n",
    "    if (right):\n",
    "        return \"right\"\n",
    "    return False"
   ]
  },
  {
   "cell_type": "code",
   "execution_count": 5,
   "metadata": {},
   "outputs": [
    {
     "name": "stdout",
     "output_type": "stream",
     "text": [
      "Passed\n",
      "Passed\n",
      "Passed\n",
      "Passed\n",
      "Passed\n",
      "Passed\n",
      "Passed\n",
      "Passed\n",
      "Passed\n",
      "Passed\n",
      "Passed\n",
      "Passed\n",
      "Passed\n"
     ]
    }
   ],
   "source": [
    "Test.assert_equals(truncatable(47), \"left\")\n",
    "Test.assert_equals(truncatable(347), \"left\")\n",
    "Test.assert_equals(truncatable(62383), \"left\")\n",
    "Test.assert_equals(truncatable(79), \"right\")\n",
    "Test.assert_equals(truncatable(7331), \"right\")\n",
    "Test.assert_equals(truncatable(233993), \"right\")\n",
    "Test.assert_equals(truncatable(3797), \"both\")\n",
    "Test.assert_equals(truncatable(739397), \"both\")\n",
    "Test.assert_equals(truncatable(5), \"both\", \"single-digit number treated as both\")\n",
    "Test.assert_equals(truncatable(349), False)\n",
    "Test.assert_equals(truncatable(2317), False, \"the starting number is composite\")\n",
    "Test.assert_equals(truncatable(131), False, \"1 is not a prime\")\n",
    "Test.assert_equals(truncatable(6043), False, \"cannot contain a 0 digit\")"
   ]
  },
  {
   "cell_type": "markdown",
   "metadata": {},
   "source": [
    "# Problem https://edabit.com/challenge/RB6iWFrCd6rXWH3vi (5 points)"
   ]
  },
  {
   "cell_type": "code",
   "execution_count": 8,
   "metadata": {},
   "outputs": [],
   "source": [
    "def longest_substring (my_str):\n",
    "    max_begin = max_len = buf_begin = 0 \n",
    "\n",
    "    for i in range (1, len(my_str)):\n",
    "        if ( (int(my_str[i-1]) + int(my_str[i])) % 2 == 1):\n",
    "            continue\n",
    "        if (i - buf_begin > max_len):\n",
    "            max_begin = buf_begin\n",
    "            max_len = i - buf_begin\n",
    "        buf_begin = i\n",
    "\n",
    "    if (i+1 - buf_begin > max_len):\n",
    "            max_begin = buf_begin\n",
    "            max_len = i+1 - buf_begin\n",
    "    return my_str [max_begin : max_begin+max_len]"
   ]
  },
  {
   "cell_type": "code",
   "execution_count": 9,
   "metadata": {},
   "outputs": [
    {
     "name": "stdout",
     "output_type": "stream",
     "text": [
      "Passed\n",
      "Passed\n",
      "Passed\n",
      "Passed\n",
      "Passed\n",
      "Passed\n",
      "Passed\n",
      "Passed\n",
      "Passed\n",
      "Passed\n",
      "Passed\n",
      "Passed\n",
      "Passed\n",
      "Passed\n",
      "Passed\n",
      "Passed\n",
      "Passed\n",
      "Passed\n",
      "Passed\n",
      "Passed\n"
     ]
    }
   ],
   "source": [
    "Test.assert_equals(longest_substring(\"844929328912985315632725682153\"), \"56327256\")\n",
    "Test.assert_equals(longest_substring(\"769697538272129475593767931733\"), \"27212947\")\n",
    "Test.assert_equals(longest_substring(\"937948289456111258444958189244\"), \"894561\")\n",
    "Test.assert_equals(longest_substring(\"736237766362158694825822899262\"), \"636\")\n",
    "Test.assert_equals(longest_substring(\"369715978955362655737322836233\"), \"369\")\n",
    "Test.assert_equals(longest_substring(\"345724969853525333273796592356\"), \"496985\")\n",
    "Test.assert_equals(longest_substring(\"548915548581127334254139969136\"), \"8581\")\n",
    "Test.assert_equals(longest_substring(\"417922164857852157775176959188\"), \"78521\")\n",
    "Test.assert_equals(longest_substring(\"251346385699223913113161144327\"), \"638569\")\n",
    "Test.assert_equals(longest_substring(\"483563951878576456268539849244\"), \"18785\")\n",
    "Test.assert_equals(longest_substring(\"853667717122615664748443484823\"), \"474\")\n",
    "Test.assert_equals(longest_substring(\"398785511683322662883368457392\"), \"98785\")\n",
    "Test.assert_equals(longest_substring(\"368293545763611759335443678239\"), \"76361\")\n",
    "Test.assert_equals(longest_substring(\"775195358448494712934755311372\"), \"4947\")\n",
    "Test.assert_equals(longest_substring(\"646113733929969155976523363762\"), \"76523\")\n",
    "Test.assert_equals(longest_substring(\"575337321726324966478369152265\"), \"478369\")\n",
    "Test.assert_equals(longest_substring(\"754388489999793138912431545258\"), \"545258\")\n",
    "Test.assert_equals(longest_substring(\"198644286258141856918653955964\"), \"2581418569\")\n",
    "Test.assert_equals(longest_substring(\"643349187319779695864213682274\"), \"349\")\n",
    "Test.assert_equals(longest_substring(\"919331281193713636178478295857\"), \"36361\")"
   ]
  },
  {
   "cell_type": "markdown",
   "metadata": {},
   "source": [
    "# Problem https://edabit.com/challenge/XQwPPHE6ZSu4Er9ht (5 points)"
   ]
  },
  {
   "cell_type": "code",
   "execution_count": 10,
   "metadata": {},
   "outputs": [],
   "source": [
    "def count_prime_factorization (n):\n",
    "    p = 2\n",
    "    res = 0\n",
    "    p_res = 0\n",
    "    while (n > 1):\n",
    "        if (n%p == 0):\n",
    "            p_res += 1\n",
    "            n /= p\n",
    "        else:\n",
    "            if (p_res != 0):\n",
    "                res += count_number(p)\n",
    "                if (p_res != 1):\n",
    "                    res += count_number(p_res)\n",
    "                p_res = 0\n",
    "            if (p == 2):\n",
    "                p = 3\n",
    "            else:\n",
    "                p += 2\n",
    "    if (p_res != 0):\n",
    "        res += count_number(p)\n",
    "        if (p_res != 1):\n",
    "            res += count_number(p_res)\n",
    "    return res\n",
    "\n",
    "def count_number(n):\n",
    "    return len (str (n))\n",
    "\n",
    "def is_economical (n):\n",
    "    count_prfac = count_prime_factorization (n)\n",
    "    count_num = count_number (n)\n",
    "    \n",
    "    if (count_prfac == count_num):\n",
    "        return \"Equidigital\"\n",
    "\n",
    "    if (count_prfac < count_num):\n",
    "        return \"Frugal\"\n",
    "\n",
    "    return \"Wasteful\""
   ]
  },
  {
   "cell_type": "code",
   "execution_count": 11,
   "metadata": {},
   "outputs": [
    {
     "name": "stdout",
     "output_type": "stream",
     "text": [
      "Passed\n",
      "Passed\n",
      "Passed\n",
      "Passed\n",
      "Passed\n",
      "Passed\n",
      "Passed\n",
      "Passed\n",
      "Passed\n",
      "Passed\n",
      "Passed\n",
      "Passed\n",
      "Passed\n"
     ]
    }
   ],
   "source": [
    "Test.assert_equals(is_economical(14), \"Equidigital\", \"Example #1\")\n",
    "Test.assert_equals(is_economical(125), \"Frugal\", \"Example #2\")\n",
    "Test.assert_equals(is_economical(1024), \"Frugal\", \"Example #3\")\n",
    "Test.assert_equals(is_economical(30), \"Wasteful\", \"Example #4\")\n",
    "Test.assert_equals(is_economical(81), \"Equidigital\")\n",
    "Test.assert_equals(is_economical(243), \"Frugal\")\n",
    "Test.assert_equals(is_economical(5), \"Equidigital\")\n",
    "Test.assert_equals(is_economical(6), \"Wasteful\")\n",
    "Test.assert_equals(is_economical(1267), \"Equidigital\")\n",
    "Test.assert_equals(is_economical(1701), \"Frugal\")\n",
    "Test.assert_equals(is_economical(1267), \"Equidigital\")\n",
    "Test.assert_equals(is_economical(12871), \"Equidigital\")\n",
    "Test.assert_equals(is_economical(88632), \"Wasteful\")"
   ]
  }
 ],
 "metadata": {
  "kernelspec": {
   "display_name": "Python 3",
   "language": "python",
   "name": "python3"
  },
  "language_info": {
   "codemirror_mode": {
    "name": "ipython",
    "version": 3
   },
   "file_extension": ".py",
   "mimetype": "text/x-python",
   "name": "python",
   "nbconvert_exporter": "python",
   "pygments_lexer": "ipython3",
   "version": "3.7.0"
  }
 },
 "nbformat": 4,
 "nbformat_minor": 2
}
