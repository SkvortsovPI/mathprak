{
 "cells": [
  {
   "cell_type": "code",
   "execution_count": 29,
   "metadata": {},
   "outputs": [],
   "source": [
    "import numpy as np"
   ]
  },
  {
   "cell_type": "code",
   "execution_count": 30,
   "metadata": {},
   "outputs": [
    {
     "name": "stdout",
     "output_type": "stream",
     "text": [
      "[[0.73018687]\n",
      " [0.86595705]\n",
      " [0.35987071]\n",
      " [0.47501665]\n",
      " [0.34905241]\n",
      " [0.55388253]\n",
      " [0.45971297]\n",
      " [0.24271924]\n",
      " [0.64483941]\n",
      " [0.33826077]]\n"
     ]
    }
   ],
   "source": [
    "#Создайте двумерный массив 10x3, заполненный случайными значениями. В каждой строке выберите значение, наиболее близкое к 0.5.\n",
    "a = np.random.random (30).reshape (10, 3)\n",
    "#print(a)\n",
    "print (np.take_along_axis (a, np.argmin (abs(a-0.5), axis=1).reshape(10, 1), axis=1))"
   ]
  },
  {
   "cell_type": "code",
   "execution_count": 31,
   "metadata": {},
   "outputs": [
    {
     "name": "stdout",
     "output_type": "stream",
     "text": [
      "[21.88009112 19.03396917 34.62460524 22.33429416  9.92247219 11.86658617] \n",
      "\n",
      "\n"
     ]
    }
   ],
   "source": [
    "#Создайте двумерный массив 6x6, заполненный случайными значениями. Затем сумму по каждой строке поделите на минимальный элемент из столбца с тем же индексом.\n",
    "a = np.random.random (36).reshape (6, 6)\n",
    "#print(a, '\\n\\n')\n",
    "print (np.sum (a, axis=1)/np.min (a, axis=0), '\\n\\n')            # если хотим сумму в i-ой строчке делить на минимум в i-ом столбце\n",
    "#print (np.sum (a, axis=1).reshape(6,1)/np.min (a, axis=0))      # если хотим сумму в каждой строчке делить на минимум в каждом из столбцов"
   ]
  },
  {
   "cell_type": "code",
   "execution_count": 32,
   "metadata": {},
   "outputs": [
    {
     "name": "stdout",
     "output_type": "stream",
     "text": [
      "5\n"
     ]
    }
   ],
   "source": [
    "#На примере массива x = np.array([6, 2, 0, 3, 0, 0, 5, 7, 0]) найдите максимальный элемент в массиве среди элементов, перед которыми стоит ноль.\n",
    "x = np.array([6, 2, 0, 3, 0, 0, 5, 7, 0])\n",
    "print (np.max (np.lib.stride_tricks.as_strided(x, shape=(np.size(x)-1, 2), strides=(4, 4)) [np.lib.stride_tricks.as_strided(x, shape=(np.size(x)-1, 2), strides=(4, 4))[:, 0] == 0] [:, 1]))"
   ]
  },
  {
   "cell_type": "code",
   "execution_count": 33,
   "metadata": {},
   "outputs": [
    {
     "name": "stdout",
     "output_type": "stream",
     "text": [
      "[2. 2. 2. 2. 1. 4. 1. 1. 2. 1.]\n"
     ]
    }
   ],
   "source": [
    "#Пусть заданы два массива x = np.ones(10) и i = np.array([0, 1, 2, 3, 5, 5, 5, 8]). Прибавьте единицу к тем элементам массива x, индексы которых указаны в массиве i. В случае, если некоторый индекс встретился в массиве i несколько раз, прибавьте к соответствующему элементу массива x число вхождений данного индекса в массив i.\n",
    "x = np.ones(10) \n",
    "i = np.array([0, 1, 2, 3, 5, 5, 5, 8])\n",
    "x[np.unique (i, return_counts = True)[0]] += np.unique (i, return_counts = True)[1] # предполагаем корректные входные данные\n",
    "print(x)"
   ]
  },
  {
   "cell_type": "code",
   "execution_count": 34,
   "metadata": {},
   "outputs": [],
   "source": [
    "# Написать функцию, реализующую алгоритм k-means. Входные и выходные значения функции должны быть аналогичны https://docs.scipy.org/doc/scipy-0.15.1/reference/generated/scipy.cluster.vq.kmeans.html. Функция должна содержать не более двух циклов while (for).\n",
    "def kmeans(points, k_or_guess, iter=20, thresh=1e-5, dist = -1):\n",
    "    count_points = np.shape(points)[0]\n",
    "    if (iter <= 0 or thresh < 0):\n",
    "        raise\n",
    "        \n",
    "    if type (k_or_guess) == type (np.array ([])):\n",
    "        centers = k_or_guess\n",
    "        count_centers = np.shape (k_or_guess)[0]\n",
    "    elif type (k_or_guess) == int:\n",
    "        count_centers = k_or_guess\n",
    "        centers = points[np.random.choice (count_points, count_centers, replace = False)]\n",
    "    else:\n",
    "        raise\n",
    "    \n",
    "    if (np.shape(centers)[1] != np.shape(points)[1]):\n",
    "        raise\n",
    "        \n",
    "    x = centers[[np.argmin( np.sum((centers-i)**2, axis = 1)) for i in points]]\n",
    "    centers, y = np.unique(x, axis=0, return_inverse=True)\n",
    "    \n",
    "    new_dist = 0\n",
    "    new_centers = np.zeros (np.shape(centers))\n",
    "    points_sq = 0\n",
    "    points_sum = 0\n",
    "    for i in range (count_points):\n",
    "        new_dist += np.sum ((points[i] - centers[y[i]])**2)\n",
    "        new_centers[y[i]] += points[i]/np.count_nonzero (y==y[i])\n",
    "    new_dist = np.sum((points - new_centers[y])**2)\n",
    "\n",
    "    if ( (dist >= 0 and dist-new_dist<thresh) or iter == 1):\n",
    "        return new_centers, new_dist\n",
    "    return kmeans (points, new_centers, iter-1, thresh, new_dist)"
   ]
  }
 ],
 "metadata": {
  "kernelspec": {
   "display_name": "Python 3",
   "language": "python",
   "name": "python3"
  },
  "language_info": {
   "codemirror_mode": {
    "name": "ipython",
    "version": 3
   },
   "file_extension": ".py",
   "mimetype": "text/x-python",
   "name": "python",
   "nbconvert_exporter": "python",
   "pygments_lexer": "ipython3",
   "version": "3.7.0"
  }
 },
 "nbformat": 4,
 "nbformat_minor": 2
}
